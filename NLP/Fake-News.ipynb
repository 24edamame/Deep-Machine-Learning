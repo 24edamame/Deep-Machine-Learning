{
 "cells": [
  {
   "cell_type": "markdown",
   "id": "f0952ca5",
   "metadata": {},
   "source": [
    "# Fake News Detection\n",
    "Using NLP (tf-idf), Machine Learning and Deep Learning"
   ]
  },
  {
   "cell_type": "code",
   "execution_count": 1,
   "id": "d3a8c92a",
   "metadata": {},
   "outputs": [],
   "source": [
    "import tensorflow as tf\n",
    "import pandas as pd\n",
    "import numpy as np\n",
    "import matplotlib.pyplot as plt\n",
    "import nltk\n",
    "import pickle\n",
    "\n",
    "from collections import Counter\n",
    "from unicodedata import category\n",
    "\n",
    "from sklearn.model_selection import train_test_split\n",
    "from sklearn.feature_extraction.text import TfidfVectorizer\n",
    "from sklearn.ensemble import RandomForestClassifier\n",
    "from sklearn.svm import SVC\n",
    "from sklearn import metrics\n",
    "\n",
    "from tensorflow import keras\n",
    "from tensorflow.keras import layers\n",
    "from tensorflow.keras.callbacks import EarlyStopping, ModelCheckpoint"
   ]
  },
  {
   "cell_type": "code",
   "execution_count": 2,
   "id": "521da37b",
   "metadata": {},
   "outputs": [
    {
     "data": {
      "text/html": [
       "<div>\n",
       "<style scoped>\n",
       "    .dataframe tbody tr th:only-of-type {\n",
       "        vertical-align: middle;\n",
       "    }\n",
       "\n",
       "    .dataframe tbody tr th {\n",
       "        vertical-align: top;\n",
       "    }\n",
       "\n",
       "    .dataframe thead th {\n",
       "        text-align: right;\n",
       "    }\n",
       "</style>\n",
       "<table border=\"1\" class=\"dataframe\">\n",
       "  <thead>\n",
       "    <tr style=\"text-align: right;\">\n",
       "      <th></th>\n",
       "      <th>id</th>\n",
       "      <th>title</th>\n",
       "      <th>author</th>\n",
       "      <th>text</th>\n",
       "      <th>label</th>\n",
       "    </tr>\n",
       "  </thead>\n",
       "  <tbody>\n",
       "    <tr>\n",
       "      <th>0</th>\n",
       "      <td>0</td>\n",
       "      <td>House Dem Aide: We Didn’t Even See Comey’s Let...</td>\n",
       "      <td>Darrell Lucus</td>\n",
       "      <td>House Dem Aide: We Didn’t Even See Comey’s Let...</td>\n",
       "      <td>1</td>\n",
       "    </tr>\n",
       "    <tr>\n",
       "      <th>1</th>\n",
       "      <td>1</td>\n",
       "      <td>FLYNN: Hillary Clinton, Big Woman on Campus - ...</td>\n",
       "      <td>Daniel J. Flynn</td>\n",
       "      <td>Ever get the feeling your life circles the rou...</td>\n",
       "      <td>0</td>\n",
       "    </tr>\n",
       "    <tr>\n",
       "      <th>2</th>\n",
       "      <td>2</td>\n",
       "      <td>Why the Truth Might Get You Fired</td>\n",
       "      <td>Consortiumnews.com</td>\n",
       "      <td>Why the Truth Might Get You Fired October 29, ...</td>\n",
       "      <td>1</td>\n",
       "    </tr>\n",
       "    <tr>\n",
       "      <th>3</th>\n",
       "      <td>3</td>\n",
       "      <td>15 Civilians Killed In Single US Airstrike Hav...</td>\n",
       "      <td>Jessica Purkiss</td>\n",
       "      <td>Videos 15 Civilians Killed In Single US Airstr...</td>\n",
       "      <td>1</td>\n",
       "    </tr>\n",
       "    <tr>\n",
       "      <th>4</th>\n",
       "      <td>4</td>\n",
       "      <td>Iranian woman jailed for fictional unpublished...</td>\n",
       "      <td>Howard Portnoy</td>\n",
       "      <td>Print \\nAn Iranian woman has been sentenced to...</td>\n",
       "      <td>1</td>\n",
       "    </tr>\n",
       "  </tbody>\n",
       "</table>\n",
       "</div>"
      ],
      "text/plain": [
       "   id                                              title              author  \\\n",
       "0   0  House Dem Aide: We Didn’t Even See Comey’s Let...       Darrell Lucus   \n",
       "1   1  FLYNN: Hillary Clinton, Big Woman on Campus - ...     Daniel J. Flynn   \n",
       "2   2                  Why the Truth Might Get You Fired  Consortiumnews.com   \n",
       "3   3  15 Civilians Killed In Single US Airstrike Hav...     Jessica Purkiss   \n",
       "4   4  Iranian woman jailed for fictional unpublished...      Howard Portnoy   \n",
       "\n",
       "                                                text  label  \n",
       "0  House Dem Aide: We Didn’t Even See Comey’s Let...      1  \n",
       "1  Ever get the feeling your life circles the rou...      0  \n",
       "2  Why the Truth Might Get You Fired October 29, ...      1  \n",
       "3  Videos 15 Civilians Killed In Single US Airstr...      1  \n",
       "4  Print \\nAn Iranian woman has been sentenced to...      1  "
      ]
     },
     "execution_count": 2,
     "metadata": {},
     "output_type": "execute_result"
    }
   ],
   "source": [
    "train_df = pd.read_csv(\"train.csv\").dropna()\n",
    "train_df.head()"
   ]
  },
  {
   "cell_type": "markdown",
   "id": "3497a0f8",
   "metadata": {},
   "source": [
    "0 means **reliable/real news**, 1 means **unreliable/fake news**"
   ]
  },
  {
   "cell_type": "markdown",
   "id": "f0837ad4",
   "metadata": {},
   "source": [
    "We will only perform predictions based on the **TEXT**"
   ]
  },
  {
   "cell_type": "code",
   "execution_count": 3,
   "id": "f4405899",
   "metadata": {},
   "outputs": [
    {
     "data": {
      "text/plain": [
       "0    House Dem Aide: We Didn’t Even See Comey’s Let...\n",
       "1    Ever get the feeling your life circles the rou...\n",
       "2    Why the Truth Might Get You Fired October 29, ...\n",
       "3    Videos 15 Civilians Killed In Single US Airstr...\n",
       "4    Print \\nAn Iranian woman has been sentenced to...\n",
       "Name: text, dtype: object"
      ]
     },
     "execution_count": 3,
     "metadata": {},
     "output_type": "execute_result"
    }
   ],
   "source": [
    "features, labels = train_df[\"text\"], train_df.iloc[:, -1]\n",
    "features.head()"
   ]
  },
  {
   "cell_type": "code",
   "execution_count": 4,
   "id": "e5d098d3",
   "metadata": {},
   "outputs": [
    {
     "name": "stdout",
     "output_type": "stream",
     "text": [
      "<class 'pandas.core.series.Series'>\n",
      "Int64Index: 18285 entries, 0 to 20799\n",
      "Series name: text\n",
      "Non-Null Count  Dtype \n",
      "--------------  ----- \n",
      "18285 non-null  object\n",
      "dtypes: object(1)\n",
      "memory usage: 285.7+ KB\n"
     ]
    }
   ],
   "source": [
    "features.info()"
   ]
  },
  {
   "cell_type": "code",
   "execution_count": 5,
   "id": "28dfbacc",
   "metadata": {},
   "outputs": [
    {
     "data": {
      "text/plain": [
       "0    10361\n",
       "1     7924\n",
       "Name: label, dtype: int64"
      ]
     },
     "execution_count": 5,
     "metadata": {},
     "output_type": "execute_result"
    }
   ],
   "source": [
    "labels.value_counts() #checking for invalid labels"
   ]
  },
  {
   "cell_type": "markdown",
   "id": "385a5fb4",
   "metadata": {},
   "source": [
    "Base probability is around 57%"
   ]
  },
  {
   "cell_type": "markdown",
   "id": "38be9245",
   "metadata": {},
   "source": [
    "### Visualising word distribution\n",
    "For real and fake news"
   ]
  },
  {
   "cell_type": "code",
   "execution_count": 6,
   "id": "7a4ea9dd",
   "metadata": {},
   "outputs": [],
   "source": [
    "real = features.loc[train_df.label==0]\n",
    "fake = features.loc[train_df.label==1]"
   ]
  },
  {
   "cell_type": "code",
   "execution_count": 7,
   "id": "43157591",
   "metadata": {},
   "outputs": [
    {
     "data": {
      "text/plain": [
       "0     House Dem Aide: We Didn’t Even See Comey’s Let...\n",
       "2     Why the Truth Might Get You Fired October 29, ...\n",
       "3     Videos 15 Civilians Killed In Single US Airstr...\n",
       "4     Print \\nAn Iranian woman has been sentenced to...\n",
       "12    The mystery surrounding The Third Reich and Na...\n",
       "Name: text, dtype: object"
      ]
     },
     "execution_count": 7,
     "metadata": {},
     "output_type": "execute_result"
    }
   ],
   "source": [
    "fake.head()"
   ]
  },
  {
   "cell_type": "code",
   "execution_count": 8,
   "id": "e3c4adcf",
   "metadata": {},
   "outputs": [
    {
     "data": {
      "text/plain": [
       "[('the', 285342),\n",
       " ('of', 149697),\n",
       " ('to', 149394),\n",
       " ('and', 133635),\n",
       " ('a', 104173),\n",
       " ('in', 90524),\n",
       " ('that', 69757),\n",
       " ('is', 67517),\n",
       " ('for', 46152),\n",
       " ('on', 37121),\n",
       " ('with', 33032),\n",
       " ('are', 32293),\n",
       " ('as', 32264),\n",
       " ('be', 28730),\n",
       " ('by', 27732),\n",
       " ('was', 27680),\n",
       " ('have', 26630),\n",
       " ('it', 26527),\n",
       " ('not', 23047),\n",
       " ('this', 22662)]"
      ]
     },
     "execution_count": 8,
     "metadata": {},
     "output_type": "execute_result"
    }
   ],
   "source": [
    "real = \" \".join(real).split(\" \")\n",
    "fake = \" \".join(fake).split(\" \")\n",
    "\n",
    "real_wordcount = Counter(real)\n",
    "fake_wordcount = Counter(fake)\n",
    "\n",
    "common_words = fake_wordcount.most_common(20)\n",
    "common_words"
   ]
  },
  {
   "cell_type": "markdown",
   "id": "11091ca5",
   "metadata": {},
   "source": [
    "Most common words appear to be stopwords like \"the\", \"that\", etc.\n",
    "\n",
    "We'll use the `ntlk` library to remove them."
   ]
  },
  {
   "cell_type": "code",
   "execution_count": 9,
   "id": "4f7d1051",
   "metadata": {},
   "outputs": [
    {
     "data": {
      "text/plain": [
       "['a',\n",
       " 'about',\n",
       " 'above',\n",
       " 'after',\n",
       " 'again',\n",
       " 'against',\n",
       " 'ain',\n",
       " 'all',\n",
       " 'am',\n",
       " 'an',\n",
       " 'and',\n",
       " 'any',\n",
       " 'are',\n",
       " 'aren',\n",
       " \"aren't\",\n",
       " 'as',\n",
       " 'at',\n",
       " 'be',\n",
       " 'because',\n",
       " 'been',\n",
       " 'before',\n",
       " 'being',\n",
       " 'below',\n",
       " 'between',\n",
       " 'both',\n",
       " 'but',\n",
       " 'by',\n",
       " 'can',\n",
       " 'couldn',\n",
       " \"couldn't\",\n",
       " 'd',\n",
       " 'did',\n",
       " 'didn',\n",
       " \"didn't\",\n",
       " 'do',\n",
       " 'does',\n",
       " 'doesn',\n",
       " \"doesn't\",\n",
       " 'doing',\n",
       " 'don',\n",
       " \"don't\",\n",
       " 'down',\n",
       " 'during',\n",
       " 'each',\n",
       " 'few',\n",
       " 'for',\n",
       " 'from',\n",
       " 'further',\n",
       " 'had',\n",
       " 'hadn',\n",
       " \"hadn't\",\n",
       " 'has',\n",
       " 'hasn',\n",
       " \"hasn't\",\n",
       " 'have',\n",
       " 'haven',\n",
       " \"haven't\",\n",
       " 'having',\n",
       " 'he',\n",
       " 'her',\n",
       " 'here',\n",
       " 'hers',\n",
       " 'herself',\n",
       " 'him',\n",
       " 'himself',\n",
       " 'his',\n",
       " 'how',\n",
       " 'i',\n",
       " 'if',\n",
       " 'in',\n",
       " 'into',\n",
       " 'is',\n",
       " 'isn',\n",
       " \"isn't\",\n",
       " 'it',\n",
       " \"it's\",\n",
       " 'its',\n",
       " 'itself',\n",
       " 'just',\n",
       " 'll',\n",
       " 'm',\n",
       " 'ma',\n",
       " 'me',\n",
       " 'mightn',\n",
       " \"mightn't\",\n",
       " 'more',\n",
       " 'most',\n",
       " 'mustn',\n",
       " \"mustn't\",\n",
       " 'my',\n",
       " 'myself',\n",
       " 'needn',\n",
       " \"needn't\",\n",
       " 'no',\n",
       " 'nor',\n",
       " 'not',\n",
       " 'now',\n",
       " 'o',\n",
       " 'of',\n",
       " 'off',\n",
       " 'on',\n",
       " 'once',\n",
       " 'only',\n",
       " 'or',\n",
       " 'other',\n",
       " 'our',\n",
       " 'ours',\n",
       " 'ourselves',\n",
       " 'out',\n",
       " 'over',\n",
       " 'own',\n",
       " 're',\n",
       " 's',\n",
       " 'same',\n",
       " 'shan',\n",
       " \"shan't\",\n",
       " 'she',\n",
       " \"she's\",\n",
       " 'should',\n",
       " \"should've\",\n",
       " 'shouldn',\n",
       " \"shouldn't\",\n",
       " 'so',\n",
       " 'some',\n",
       " 'such',\n",
       " 't',\n",
       " 'than',\n",
       " 'that',\n",
       " \"that'll\",\n",
       " 'the',\n",
       " 'their',\n",
       " 'theirs',\n",
       " 'them',\n",
       " 'themselves',\n",
       " 'then',\n",
       " 'there',\n",
       " 'these',\n",
       " 'they',\n",
       " 'this',\n",
       " 'those',\n",
       " 'through',\n",
       " 'to',\n",
       " 'too',\n",
       " 'under',\n",
       " 'until',\n",
       " 'up',\n",
       " 've',\n",
       " 'very',\n",
       " 'was',\n",
       " 'wasn',\n",
       " \"wasn't\",\n",
       " 'we',\n",
       " 'were',\n",
       " 'weren',\n",
       " \"weren't\",\n",
       " 'what',\n",
       " 'when',\n",
       " 'where',\n",
       " 'which',\n",
       " 'while',\n",
       " 'who',\n",
       " 'whom',\n",
       " 'why',\n",
       " 'will',\n",
       " 'with',\n",
       " 'won',\n",
       " \"won't\",\n",
       " 'wouldn',\n",
       " \"wouldn't\",\n",
       " 'y',\n",
       " 'you',\n",
       " \"you'd\",\n",
       " \"you'll\",\n",
       " \"you're\",\n",
       " \"you've\",\n",
       " 'your',\n",
       " 'yours',\n",
       " 'yourself',\n",
       " 'yourselves']"
      ]
     },
     "execution_count": 9,
     "metadata": {},
     "output_type": "execute_result"
    }
   ],
   "source": [
    "stopwords = nltk.corpus.stopwords.words(\"english\")\n",
    "stopwords.sort()\n",
    "stopwords"
   ]
  },
  {
   "cell_type": "code",
   "execution_count": 10,
   "id": "45d3b859",
   "metadata": {},
   "outputs": [],
   "source": [
    "for word, count in common_words:\n",
    "    if word not in stopwords:\n",
    "        print(f'{word} not in stopwords.')"
   ]
  },
  {
   "cell_type": "markdown",
   "id": "0e9c0bf9",
   "metadata": {},
   "source": [
    "### Filtering out stopwords"
   ]
  },
  {
   "cell_type": "code",
   "execution_count": 11,
   "id": "bacb9c65",
   "metadata": {},
   "outputs": [],
   "source": [
    "fake = Counter(filter(lambda x: x.lower() not in stopwords, fake))\n",
    "real = Counter(filter(lambda x: x.lower() not in stopwords, real))"
   ]
  },
  {
   "cell_type": "code",
   "execution_count": 12,
   "id": "b5daeb14",
   "metadata": {},
   "outputs": [
    {
     "data": {
      "image/png": "[encoded data removed]",
      "text/plain": [
       "<Figure size 2000x1000 with 1 Axes>"
      ]
     },
     "metadata": {},
     "output_type": "display_data"
    }
   ],
   "source": [
    "plt.figure(figsize=(20, 10))\n",
    "\n",
    "\n",
    "plt.bar([word[0] for word in real.most_common(50)], \n",
    "        [word[1] for word in real.most_common(50)],\n",
    "        label=\"real\")\n",
    "\n",
    "\n",
    "plt.bar([word[0] for word in fake.most_common(50)], \n",
    "        [word[1] for word in fake.most_common(50)],\n",
    "        label=\"fake\")\n",
    "\n",
    "plt.xticks(rotation=90)\n",
    "\n",
    "plt.legend()\n",
    "plt.show()"
   ]
  },
  {
   "cell_type": "markdown",
   "id": "4ea590d6",
   "metadata": {},
   "source": [
    "## Filtering the text\n",
    "Removing punctuations and stopwords"
   ]
  },
  {
   "cell_type": "code",
   "execution_count": 13,
   "id": "ac2ec752",
   "metadata": {},
   "outputs": [
    {
     "data": {
      "text/plain": [
       "('Zs', 'Po', 'Pd', 'Po')"
      ]
     },
     "execution_count": 13,
     "metadata": {},
     "output_type": "execute_result"
    }
   ],
   "source": [
    "category(\" \"), category('\"'), category(\"-\"), category(\"/\")"
   ]
  },
  {
   "cell_type": "code",
   "execution_count": 14,
   "id": "83e0cc05",
   "metadata": {},
   "outputs": [],
   "source": [
    "text_data = []\n",
    "for text in features:\n",
    "    text = text.split(\" \")\n",
    "    text_data.append(text)"
   ]
  },
  {
   "cell_type": "code",
   "execution_count": 15,
   "id": "ae20a8f5",
   "metadata": {},
   "outputs": [],
   "source": [
    "def filter_text(text_samples):\n",
    "    \"\"\"Removes stopwords and punctuations from text\"\"\"\n",
    "    filtered_text = []\n",
    "    for text in text_samples:\n",
    "        \n",
    "        #1. remove blanks, newline characters and stopwords\n",
    "        text_sw_removed = [word.lower().strip(\"\\n\") for word in text if word.lower().strip(\"\\n\") not in stopwords and word != \"\"]\n",
    "        \n",
    "        #2. remove punctuations\n",
    "        filtered_sample = [\"\".join(char for char in word if category(char)[0] not in [\"Z\", \"P\"]) for word in text_sw_removed]\n",
    "        filtered_text.append(filtered_sample)\n",
    "        \n",
    "    return filtered_text"
   ]
  },
  {
   "cell_type": "code",
   "execution_count": 16,
   "id": "574dea60",
   "metadata": {},
   "outputs": [
    {
     "name": "stdout",
     "output_type": "stream",
     "text": [
      "Before filtering: \n",
      "['House', 'Dem', 'Aide:', 'We', 'Didn’t', 'Even', 'See', 'Comey’s', 'Letter', 'Until', 'Jason', 'Chaffetz', 'Tweeted', 'It', 'By', 'Darrell', 'Lucus', 'on', 'October', '30,', '2016', 'Subscribe', 'Jason', 'Chaffetz', 'on', 'the', 'stump', 'in', 'American', 'Fork,', 'Utah', '(', 'image', 'courtesy', 'Michael', 'Jolley,', 'available', 'under', 'a', 'Creative', 'Commons-BY', 'license)', '\\nWith', 'apologies', 'to', 'Keith', 'Olbermann,', 'there', 'is', 'no', 'doubt', 'who', 'the', 'Worst', 'Person', 'in', 'The', 'World', 'is', 'this', 'week–FBI', 'Director', 'James', 'Comey.', 'But', 'according', 'to', 'a', 'House', 'Democratic', 'aide,', 'it', 'looks', 'like', 'we', 'also', 'know', 'who', 'the', 'second-worst', 'person', 'is', 'as', 'well.', 'It', 'turns', 'out', 'that', 'when', 'Comey', 'sent', 'his', 'now-infamous', 'letter', 'announcing', 'that', 'the', 'FBI', 'was', 'looking', 'into', 'emails', 'that', 'may', 'be', 'related', 'to', 'Hillary', 'Clinton’s', 'email', 'server,', 'the', 'ranking', 'Democrats', 'on', 'the', 'relevant', 'committees', 'didn’t', 'hear', 'about', 'it', 'from', 'Comey.', 'They', 'found', 'out', 'via', 'a', 'tweet', 'from', 'one', 'of', 'the', 'Republican', 'committee', 'chairmen.', '\\nAs', 'we', 'now', 'know,', 'Comey', 'notified', 'the', 'Republican', 'chairmen', 'and', 'Democratic', 'ranking', 'members', 'of', 'the', 'House', 'Intelligence,', 'Judiciary,', 'and', 'Oversight', 'committees', 'that', 'his', 'agency', 'was', 'reviewing', 'emails', 'it', 'had', 'recently', 'discovered', 'in', 'order', 'to', 'see', 'if', 'they', 'contained', 'classified', 'information.', 'Not', 'long', 'after', 'this', 'letter', 'went', 'out,', 'Oversight', 'Committee', 'Chairman', 'Jason', 'Chaffetz', 'set', 'the', 'political', 'world', 'ablaze', 'with', 'this', 'tweet.', 'FBI', 'Dir', 'just', 'informed', 'me,', '\"The', 'FBI', 'has', 'learned', 'of', 'the', 'existence', 'of', 'emails', 'that', 'appear', 'to', 'be', 'pertinent', 'to', 'the', 'investigation.\"', 'Case', 'reopened', '\\n—', 'Jason', 'Chaffetz', '(@jasoninthehouse)', 'October', '28,', '2016', '\\nOf', 'course,', 'we', 'now', 'know', 'that', 'this', 'was', 'not', 'the', 'case', '.', 'Comey', 'was', 'actually', 'saying', 'that', 'it', 'was', 'reviewing', 'the', 'emails', 'in', 'light', 'of', '“an', 'unrelated', 'case”–which', 'we', 'now', 'know', 'to', 'be', 'Anthony', 'Weiner’s', 'sexting', 'with', 'a', 'teenager.', 'But', 'apparently', 'such', 'little', 'things', 'as', 'facts', 'didn’t', 'matter', 'to', 'Chaffetz.', 'The', 'Utah', 'Republican', 'had', 'already', 'vowed', 'to', 'initiate', 'a', 'raft', 'of', 'investigations', 'if', 'Hillary', 'wins–at', 'least', 'two', 'years’', 'worth,', 'and', 'possibly', 'an', 'entire', 'term’s', 'worth', 'of', 'them.', 'Apparently', 'Chaffetz', 'thought', 'the', 'FBI', 'was', 'already', 'doing', 'his', 'work', 'for', 'him–resulting', 'in', 'a', 'tweet', 'that', 'briefly', 'roiled', 'the', 'nation', 'before', 'cooler', 'heads', 'realized', 'it', 'was', 'a', 'dud.', '\\nBut', 'according', 'to', 'a', 'senior', 'House', 'Democratic', 'aide,', 'misreading', 'that', 'letter', 'may', 'have', 'been', 'the', 'least', 'of', 'Chaffetz’', 'sins.', 'That', 'aide', 'told', 'Shareblue', 'that', 'his', 'boss', 'and', 'other', 'Democrats', 'didn’t', 'even', 'know', 'about', 'Comey’s', 'letter', 'at', 'the', 'time–and', 'only', 'found', 'out', 'when', 'they', 'checked', 'Twitter.', '“Democratic', 'Ranking', 'Members', 'on', 'the', 'relevant', 'committees', 'didn’t', 'receive', 'Comey’s', 'letter', 'until', 'after', 'the', 'Republican', 'Chairmen.', 'In', 'fact,', 'the', 'Democratic', 'Ranking', 'Members', 'didn’', 'receive', 'it', 'until', 'after', 'the', 'Chairman', 'of', 'the', 'Oversight', 'and', 'Government', 'Reform', 'Committee,', 'Jason', 'Chaffetz,', 'tweeted', 'it', 'out', 'and', 'made', 'it', 'public.”', '\\nSo', 'let’s', 'see', 'if', 'we’ve', 'got', 'this', 'right.', 'The', 'FBI', 'director', 'tells', 'Chaffetz', 'and', 'other', 'GOP', 'committee', 'chairmen', 'about', 'a', 'major', 'development', 'in', 'a', 'potentially', 'politically', 'explosive', 'investigation,', 'and', 'neither', 'Chaffetz', 'nor', 'his', 'other', 'colleagues', 'had', 'the', 'courtesy', 'to', 'let', 'their', 'Democratic', 'counterparts', 'know', 'about', 'it.', 'Instead,', 'according', 'to', 'this', 'aide,', 'he', 'made', 'them', 'find', 'out', 'about', 'it', 'on', 'Twitter.', '\\nThere', 'has', 'already', 'been', 'talk', 'on', 'Daily', 'Kos', 'that', 'Comey', 'himself', 'provided', 'advance', 'notice', 'of', 'this', 'letter', 'to', 'Chaffetz', 'and', 'other', 'Republicans,', 'giving', 'them', 'time', 'to', 'turn', 'on', 'the', 'spin', 'machine.', 'That', 'may', 'make', 'for', 'good', 'theater,', 'but', 'there', 'is', 'nothing', 'so', 'far', 'that', 'even', 'suggests', 'this', 'is', 'the', 'case.', 'After', 'all,', 'there', 'is', 'nothing', 'so', 'far', 'that', 'suggests', 'that', 'Comey', 'was', 'anything', 'other', 'than', 'grossly', 'incompetent', 'and', 'tone-deaf.', '\\nWhat', 'it', 'does', 'suggest,', 'however,', 'is', 'that', 'Chaffetz', 'is', 'acting', 'in', 'a', 'way', 'that', 'makes', 'Dan', 'Burton', 'and', 'Darrell', 'Issa', 'look', 'like', 'models', 'of', 'responsibility', 'and', 'bipartisanship.', 'He', 'didn’t', 'even', 'have', 'the', 'decency', 'to', 'notify', 'ranking', 'member', 'Elijah', 'Cummings', 'about', 'something', 'this', 'explosive.', 'If', 'that', 'doesn’t', 'trample', 'on', 'basic', 'standards', 'of', 'fairness,', 'I', 'don’t', 'know', 'what', 'does.', '\\nGranted,', 'it’s', 'not', 'likely', 'that', 'Chaffetz', 'will', 'have', 'to', 'answer', 'for', 'this.', 'He', 'sits', 'in', 'a', 'ridiculously', 'Republican', 'district', 'anchored', 'in', 'Provo', 'and', 'Orem;', 'it', 'has', 'a', 'Cook', 'Partisan', 'Voting', 'Index', 'of', 'R+25,', 'and', 'gave', 'Mitt', 'Romney', 'a', 'punishing', '78', 'percent', 'of', 'the', 'vote', 'in', '2012.', 'Moreover,', 'the', 'Republican', 'House', 'leadership', 'has', 'given', 'its', 'full', 'support', 'to', 'Chaffetz’', 'planned', 'fishing', 'expedition.', 'But', 'that', 'doesn’t', 'mean', 'we', 'can’t', 'turn', 'the', 'hot', 'lights', 'on', 'him.', 'After', 'all,', 'he', 'is', 'a', 'textbook', 'example', 'of', 'what', 'the', 'House', 'has', 'become', 'under', 'Republican', 'control.', 'And', 'he', 'is', 'also', 'the', 'Second', 'Worst', 'Person', 'in', 'the', 'World.', 'About', 'Darrell', 'Lucus', '\\nDarrell', 'is', 'a', '30-something', 'graduate', 'of', 'the', 'University', 'of', 'North', 'Carolina', 'who', 'considers', 'himself', 'a', 'journalist', 'of', 'the', 'old', 'school.', 'An', 'attempt', 'to', 'turn', 'him', 'into', 'a', 'member', 'of', 'the', 'religious', 'right', 'in', 'college', 'only', 'succeeded', 'in', 'turning', 'him', 'into', 'the', 'religious', \"right's\", 'worst', 'nightmare--a', 'charismatic', 'Christian', 'who', 'is', 'an', 'unapologetic', 'liberal.', 'His', 'desire', 'to', 'stand', 'up', 'for', 'those', 'who', 'have', 'been', 'scared', 'into', 'silence', 'only', 'increased', 'when', 'he', 'survived', 'an', 'abusive', 'three-year', 'marriage.', 'You', 'may', 'know', 'him', 'on', 'Daily', 'Kos', 'as', 'Christian', 'Dem', 'in', 'NC', '.', 'Follow', 'him', 'on', 'Twitter', '@DarrellLucus', 'or', 'connect', 'with', 'him', 'on', 'Facebook', '.', 'Click', 'here', 'to', 'buy', 'Darrell', 'a', 'Mello', 'Yello.', 'Connect']\n",
      "\n",
      "After filtering: \n",
      "['house', 'dem', 'aide', 'didnt', 'even', 'see', 'comeys', 'letter', 'jason', 'chaffetz', 'tweeted', 'darrell', 'lucus', 'october', '30', '2016', 'subscribe', 'jason', 'chaffetz', 'stump', 'american', 'fork', 'utah', '', 'image', 'courtesy', 'michael', 'jolley', 'available', 'creative', 'commonsby', 'license', 'apologies', 'keith', 'olbermann', 'doubt', 'worst', 'person', 'world', 'weekfbi', 'director', 'james', 'comey', 'according', 'house', 'democratic', 'aide', 'looks', 'like', 'also', 'know', 'secondworst', 'person', 'well', 'turns', 'comey', 'sent', 'nowinfamous', 'letter', 'announcing', 'fbi', 'looking', 'emails', 'may', 'related', 'hillary', 'clintons', 'email', 'server', 'ranking', 'democrats', 'relevant', 'committees', 'didnt', 'hear', 'comey', 'found', 'via', 'tweet', 'one', 'republican', 'committee', 'chairmen', 'know', 'comey', 'notified', 'republican', 'chairmen', 'democratic', 'ranking', 'members', 'house', 'intelligence', 'judiciary', 'oversight', 'committees', 'agency', 'reviewing', 'emails', 'recently', 'discovered', 'order', 'see', 'contained', 'classified', 'information', 'long', 'letter', 'went', 'out', 'oversight', 'committee', 'chairman', 'jason', 'chaffetz', 'set', 'political', 'world', 'ablaze', 'tweet', 'fbi', 'dir', 'informed', 'me', 'the', 'fbi', 'learned', 'existence', 'emails', 'appear', 'pertinent', 'investigation', 'case', 'reopened', '', 'jason', 'chaffetz', 'jasoninthehouse', 'october', '28', '2016', 'course', 'know', 'case', '', 'comey', 'actually', 'saying', 'reviewing', 'emails', 'light', 'an', 'unrelated', 'casewhich', 'know', 'anthony', 'weiners', 'sexting', 'teenager', 'apparently', 'little', 'things', 'facts', 'didnt', 'matter', 'chaffetz', 'utah', 'republican', 'already', 'vowed', 'initiate', 'raft', 'investigations', 'hillary', 'winsat', 'least', 'two', 'years', 'worth', 'possibly', 'entire', 'terms', 'worth', 'them', 'apparently', 'chaffetz', 'thought', 'fbi', 'already', 'work', 'himresulting', 'tweet', 'briefly', 'roiled', 'nation', 'cooler', 'heads', 'realized', 'dud', 'according', 'senior', 'house', 'democratic', 'aide', 'misreading', 'letter', 'may', 'least', 'chaffetz', 'sins', 'aide', 'told', 'shareblue', 'boss', 'democrats', 'didnt', 'even', 'know', 'comeys', 'letter', 'timeand', 'found', 'checked', 'twitter', 'democratic', 'ranking', 'members', 'relevant', 'committees', 'didnt', 'receive', 'comeys', 'letter', 'republican', 'chairmen', 'fact', 'democratic', 'ranking', 'members', 'didn', 'receive', 'chairman', 'oversight', 'government', 'reform', 'committee', 'jason', 'chaffetz', 'tweeted', 'made', 'public', 'lets', 'see', 'weve', 'got', 'right', 'fbi', 'director', 'tells', 'chaffetz', 'gop', 'committee', 'chairmen', 'major', 'development', 'potentially', 'politically', 'explosive', 'investigation', 'neither', 'chaffetz', 'colleagues', 'courtesy', 'let', 'democratic', 'counterparts', 'know', 'it', 'instead', 'according', 'aide', 'made', 'find', 'twitter', 'already', 'talk', 'daily', 'kos', 'comey', 'provided', 'advance', 'notice', 'letter', 'chaffetz', 'republicans', 'giving', 'time', 'turn', 'spin', 'machine', 'may', 'make', 'good', 'theater', 'nothing', 'far', 'even', 'suggests', 'case', 'all', 'nothing', 'far', 'suggests', 'comey', 'anything', 'grossly', 'incompetent', 'tonedeaf', 'suggest', 'however', 'chaffetz', 'acting', 'way', 'makes', 'dan', 'burton', 'darrell', 'issa', 'look', 'like', 'models', 'responsibility', 'bipartisanship', 'didnt', 'even', 'decency', 'notify', 'ranking', 'member', 'elijah', 'cummings', 'something', 'explosive', 'doesnt', 'trample', 'basic', 'standards', 'fairness', 'dont', 'know', 'does', 'granted', 'its', 'likely', 'chaffetz', 'answer', 'this', 'sits', 'ridiculously', 'republican', 'district', 'anchored', 'provo', 'orem', 'cook', 'partisan', 'voting', 'index', 'r+25', 'gave', 'mitt', 'romney', 'punishing', '78', 'percent', 'vote', '2012', 'moreover', 'republican', 'house', 'leadership', 'given', 'full', 'support', 'chaffetz', 'planned', 'fishing', 'expedition', 'doesnt', 'mean', 'cant', 'turn', 'hot', 'lights', 'him', 'all', 'textbook', 'example', 'house', 'become', 'republican', 'control', 'also', 'second', 'worst', 'person', 'world', 'darrell', 'lucus', 'darrell', '30something', 'graduate', 'university', 'north', 'carolina', 'considers', 'journalist', 'old', 'school', 'attempt', 'turn', 'member', 'religious', 'right', 'college', 'succeeded', 'turning', 'religious', 'rights', 'worst', 'nightmarea', 'charismatic', 'christian', 'unapologetic', 'liberal', 'desire', 'stand', 'scared', 'silence', 'increased', 'survived', 'abusive', 'threeyear', 'marriage', 'may', 'know', 'daily', 'kos', 'christian', 'dem', 'nc', '', 'follow', 'twitter', 'darrelllucus', 'connect', 'facebook', '', 'click', 'buy', 'darrell', 'mello', 'yello', 'connect']\n"
     ]
    }
   ],
   "source": [
    "filtered_text = filter_text(text_data)\n",
    "print(\"Before filtering: \")\n",
    "print(text_data[0])\n",
    "print()\n",
    "print(\"After filtering: \")\n",
    "print(filtered_text[0])"
   ]
  },
  {
   "cell_type": "markdown",
   "id": "774797c7",
   "metadata": {},
   "source": [
    "Now...let's remove the empty array elements"
   ]
  },
  {
   "cell_type": "code",
   "execution_count": 17,
   "id": "4901368f",
   "metadata": {},
   "outputs": [],
   "source": [
    "def remove_blank(text_sample):\n",
    "    \"\"\"\n",
    "    Removes all empty array elements\n",
    "    Args:\n",
    "        text_sample: list of str\n",
    "        \n",
    "    Returns:\n",
    "        cleaned_text: list of str\n",
    "    \"\"\"\n",
    "    return [word for word in text_sample if word != \"\"]"
   ]
  },
  {
   "cell_type": "code",
   "execution_count": 18,
   "id": "ebfe6018",
   "metadata": {},
   "outputs": [
    {
     "name": "stdout",
     "output_type": "stream",
     "text": [
      "Successful: True\n"
     ]
    }
   ],
   "source": [
    "for idx, text_sample in enumerate(filtered_text):\n",
    "    filtered_text[idx] = remove_blank(text_sample)\n",
    "    \n",
    "# checking\n",
    "print(f'Successful: {\"\" not in filtered_text[0]}')"
   ]
  },
  {
   "cell_type": "markdown",
   "id": "ab3b491b",
   "metadata": {},
   "source": [
    "## Applying a Lemmatizer\n",
    "Words like \"him\" and \"he\" that share the same root ('lemma') will be 'merged' as one."
   ]
  },
  {
   "cell_type": "code",
   "execution_count": 19,
   "id": "c05e0f2f",
   "metadata": {},
   "outputs": [],
   "source": [
    "lemmatizer = nltk.stem.WordNetLemmatizer()\n",
    "lemmatized_data = []\n",
    "for text in filtered_text:\n",
    "    lemmatized_text = \" \".join([lemmatizer.lemmatize(word) for word in text])\n",
    "    lemmatized_data.append(lemmatized_text)"
   ]
  },
  {
   "cell_type": "code",
   "execution_count": 20,
   "id": "1c4cf40c",
   "metadata": {},
   "outputs": [
    {
     "data": {
      "text/plain": [
       "'house dem aide didnt even see comeys letter jason chaffetz tweeted darrell lucus october 30 2016 subscribe jason chaffetz stump american fork utah image courtesy michael jolley available creative commonsby license apology keith olbermann doubt worst person world weekfbi director james comey according house democratic aide look like also know secondworst person well turn comey sent nowinfamous letter announcing fbi looking email may related hillary clinton email server ranking democrat relevant committee didnt hear comey found via tweet one republican committee chairman know comey notified republican chairman democratic ranking member house intelligence judiciary oversight committee agency reviewing email recently discovered order see contained classified information long letter went out oversight committee chairman jason chaffetz set political world ablaze tweet fbi dir informed me the fbi learned existence email appear pertinent investigation case reopened jason chaffetz jasoninthehouse october 28 2016 course know case comey actually saying reviewing email light an unrelated casewhich know anthony weiners sexting teenager apparently little thing fact didnt matter chaffetz utah republican already vowed initiate raft investigation hillary winsat least two year worth possibly entire term worth them apparently chaffetz thought fbi already work himresulting tweet briefly roiled nation cooler head realized dud according senior house democratic aide misreading letter may least chaffetz sin aide told shareblue bos democrat didnt even know comeys letter timeand found checked twitter democratic ranking member relevant committee didnt receive comeys letter republican chairman fact democratic ranking member didn receive chairman oversight government reform committee jason chaffetz tweeted made public let see weve got right fbi director tell chaffetz gop committee chairman major development potentially politically explosive investigation neither chaffetz colleague courtesy let democratic counterpart know it instead according aide made find twitter already talk daily ko comey provided advance notice letter chaffetz republican giving time turn spin machine may make good theater nothing far even suggests case all nothing far suggests comey anything grossly incompetent tonedeaf suggest however chaffetz acting way make dan burton darrell issa look like model responsibility bipartisanship didnt even decency notify ranking member elijah cummings something explosive doesnt trample basic standard fairness dont know doe granted it likely chaffetz answer this sits ridiculously republican district anchored provo orem cook partisan voting index r+25 gave mitt romney punishing 78 percent vote 2012 moreover republican house leadership given full support chaffetz planned fishing expedition doesnt mean cant turn hot light him all textbook example house become republican control also second worst person world darrell lucus darrell 30something graduate university north carolina considers journalist old school attempt turn member religious right college succeeded turning religious right worst nightmarea charismatic christian unapologetic liberal desire stand scared silence increased survived abusive threeyear marriage may know daily ko christian dem nc follow twitter darrelllucus connect facebook click buy darrell mello yello connect'"
      ]
     },
     "execution_count": 20,
     "metadata": {},
     "output_type": "execute_result"
    }
   ],
   "source": [
    "lemmatized_data[0]"
   ]
  },
  {
   "cell_type": "markdown",
   "id": "870ca389",
   "metadata": {},
   "source": [
    "## Converting text to numbers\n",
    "Vectorizing the text and applying Tf-Idf"
   ]
  },
  {
   "cell_type": "code",
   "execution_count": 21,
   "id": "6292c334",
   "metadata": {},
   "outputs": [
    {
     "data": {
      "text/plain": [
       "(18285, 177324)"
      ]
     },
     "execution_count": 21,
     "metadata": {},
     "output_type": "execute_result"
    }
   ],
   "source": [
    "vectorizer = TfidfVectorizer()\n",
    "X_train = vectorizer.fit_transform(lemmatized_data)\n",
    "X_train.shape"
   ]
  },
  {
   "cell_type": "markdown",
   "id": "e02b7882",
   "metadata": {},
   "source": [
    "## Creating the Classifiers\n",
    "We will use the Random Forest Classifier"
   ]
  },
  {
   "cell_type": "markdown",
   "id": "fd2dc0d3",
   "metadata": {},
   "source": [
    "## Training and testing models"
   ]
  },
  {
   "cell_type": "code",
   "execution_count": 2,
   "id": "227a0eac",
   "metadata": {},
   "outputs": [],
   "source": [
    "train_df = pd.read_csv(\"train.csv\")\n",
    "train_df = train_df.dropna(subset=[\"text\", \"label\"])\n",
    "\n",
    "X, y = train_df.text, train_df.label\n",
    "X_train, X_test, y_train, y_test = train_test_split(X, y, test_size=0.3, random_state=42)"
   ]
  },
  {
   "cell_type": "code",
   "execution_count": 3,
   "id": "e0f07981",
   "metadata": {},
   "outputs": [],
   "source": [
    "def preprocess(X):\n",
    "        \"\"\"\n",
    "        Applies preprocessing steps to data\n",
    "        \n",
    "        Args:\n",
    "            X: N*D matrix of training features\n",
    "            \n",
    "        Returns:\n",
    "            X_processed: N*D matrix of processed training features\n",
    "        \"\"\"\n",
    "        X_processed = []\n",
    "        stopwords = nltk.corpus.stopwords.words(\"english\")\n",
    "        lemmatizer = nltk.stem.WordNetLemmatizer()\n",
    "        \n",
    "        for text in X:\n",
    "            text = text.split(\" \")\n",
    "            \n",
    "            #remove stopwords\n",
    "            text_removed_sw = [word for word in text if word not in stopwords]\n",
    "            \n",
    "            #remove punctuations\n",
    "            text_removed_punc = [\"\".join(char for char in word if category(char)[0] not in [\"P\", \"Z\"]) for word in text_removed_sw]\n",
    "            \n",
    "            #remove blanks\n",
    "            text_processed = [word for word in text_removed_punc if word != \"\"]\n",
    "            \n",
    "            #lemmatize words\n",
    "            text_lemmatized = [lemmatizer.lemmatize(word) for word in text_processed]\n",
    "            \n",
    "            #append to X_processed\n",
    "            \n",
    "            X_processed.append(\" \".join(text_lemmatized))\n",
    "            \n",
    "        return X_processed"
   ]
  },
  {
   "cell_type": "code",
   "execution_count": 4,
   "id": "2aac0946",
   "metadata": {},
   "outputs": [],
   "source": [
    "X_train_processed = preprocess(X_train)\n",
    "X_test_processed = preprocess(X_test)"
   ]
  },
  {
   "cell_type": "code",
   "execution_count": 5,
   "id": "1acaa5d1",
   "metadata": {},
   "outputs": [],
   "source": [
    "vectorizer = TfidfVectorizer()\n",
    "vectorizer.fit(X_train_processed)\n",
    "X_train_processed = vectorizer.transform(X_train_processed)\n",
    "X_test_processed = vectorizer.transform(X_test_processed)"
   ]
  },
  {
   "cell_type": "code",
   "execution_count": 22,
   "id": "1c7465fe",
   "metadata": {},
   "outputs": [],
   "source": [
    "rf = RandomForestClassifier()"
   ]
  },
  {
   "cell_type": "code",
   "execution_count": 23,
   "id": "45dc714f",
   "metadata": {},
   "outputs": [
    {
     "data": {
      "text/html": [
       "<style>#sk-container-id-2 {color: black;background-color: white;}#sk-container-id-2 pre{padding: 0;}#sk-container-id-2 div.sk-toggleable {background-color: white;}#sk-container-id-2 label.sk-toggleable__label {cursor: pointer;display: block;width: 100%;margin-bottom: 0;padding: 0.3em;box-sizing: border-box;text-align: center;}#sk-container-id-2 label.sk-toggleable__label-arrow:before {content: \"▸\";float: left;margin-right: 0.25em;color: #696969;}#sk-container-id-2 label.sk-toggleable__label-arrow:hover:before {color: black;}#sk-container-id-2 div.sk-estimator:hover label.sk-toggleable__label-arrow:before {color: black;}#sk-container-id-2 div.sk-toggleable__content {max-height: 0;max-width: 0;overflow: hidden;text-align: left;background-color: #f0f8ff;}#sk-container-id-2 div.sk-toggleable__content pre {margin: 0.2em;color: black;border-radius: 0.25em;background-color: #f0f8ff;}#sk-container-id-2 input.sk-toggleable__control:checked~div.sk-toggleable__content {max-height: 200px;max-width: 100%;overflow: auto;}#sk-container-id-2 input.sk-toggleable__control:checked~label.sk-toggleable__label-arrow:before {content: \"▾\";}#sk-container-id-2 div.sk-estimator input.sk-toggleable__control:checked~label.sk-toggleable__label {background-color: #d4ebff;}#sk-container-id-2 div.sk-label input.sk-toggleable__control:checked~label.sk-toggleable__label {background-color: #d4ebff;}#sk-container-id-2 input.sk-hidden--visually {border: 0;clip: rect(1px 1px 1px 1px);clip: rect(1px, 1px, 1px, 1px);height: 1px;margin: -1px;overflow: hidden;padding: 0;position: absolute;width: 1px;}#sk-container-id-2 div.sk-estimator {font-family: monospace;background-color: #f0f8ff;border: 1px dotted black;border-radius: 0.25em;box-sizing: border-box;margin-bottom: 0.5em;}#sk-container-id-2 div.sk-estimator:hover {background-color: #d4ebff;}#sk-container-id-2 div.sk-parallel-item::after {content: \"\";width: 100%;border-bottom: 1px solid gray;flex-grow: 1;}#sk-container-id-2 div.sk-label:hover label.sk-toggleable__label {background-color: #d4ebff;}#sk-container-id-2 div.sk-serial::before {content: \"\";position: absolute;border-left: 1px solid gray;box-sizing: border-box;top: 0;bottom: 0;left: 50%;z-index: 0;}#sk-container-id-2 div.sk-serial {display: flex;flex-direction: column;align-items: center;background-color: white;padding-right: 0.2em;padding-left: 0.2em;position: relative;}#sk-container-id-2 div.sk-item {position: relative;z-index: 1;}#sk-container-id-2 div.sk-parallel {display: flex;align-items: stretch;justify-content: center;background-color: white;position: relative;}#sk-container-id-2 div.sk-item::before, #sk-container-id-2 div.sk-parallel-item::before {content: \"\";position: absolute;border-left: 1px solid gray;box-sizing: border-box;top: 0;bottom: 0;left: 50%;z-index: -1;}#sk-container-id-2 div.sk-parallel-item {display: flex;flex-direction: column;z-index: 1;position: relative;background-color: white;}#sk-container-id-2 div.sk-parallel-item:first-child::after {align-self: flex-end;width: 50%;}#sk-container-id-2 div.sk-parallel-item:last-child::after {align-self: flex-start;width: 50%;}#sk-container-id-2 div.sk-parallel-item:only-child::after {width: 0;}#sk-container-id-2 div.sk-dashed-wrapped {border: 1px dashed gray;margin: 0 0.4em 0.5em 0.4em;box-sizing: border-box;padding-bottom: 0.4em;background-color: white;}#sk-container-id-2 div.sk-label label {font-family: monospace;font-weight: bold;display: inline-block;line-height: 1.2em;}#sk-container-id-2 div.sk-label-container {text-align: center;}#sk-container-id-2 div.sk-container {/* jupyter's `normalize.less` sets `[hidden] { display: none; }` but bootstrap.min.css set `[hidden] { display: none !important; }` so we also need the `!important` here to be able to override the default hidden behavior on the sphinx rendered scikit-learn.org. See: https://github.com/scikit-learn/scikit-learn/issues/21755 */display: inline-block !important;position: relative;}#sk-container-id-2 div.sk-text-repr-fallback {display: none;}</style><div id=\"sk-container-id-2\" class=\"sk-top-container\"><div class=\"sk-text-repr-fallback\"><pre>RandomForestClassifier()</pre><b>In a Jupyter environment, please rerun this cell to show the HTML representation or trust the notebook. <br />On GitHub, the HTML representation is unable to render, please try loading this page with nbviewer.org.</b></div><div class=\"sk-container\" hidden><div class=\"sk-item\"><div class=\"sk-estimator sk-toggleable\"><input class=\"sk-toggleable__control sk-hidden--visually\" id=\"sk-estimator-id-2\" type=\"checkbox\" checked><label for=\"sk-estimator-id-2\" class=\"sk-toggleable__label sk-toggleable__label-arrow\">RandomForestClassifier</label><div class=\"sk-toggleable__content\"><pre>RandomForestClassifier()</pre></div></div></div></div></div>"
      ],
      "text/plain": [
       "RandomForestClassifier()"
      ]
     },
     "execution_count": 23,
     "metadata": {},
     "output_type": "execute_result"
    }
   ],
   "source": [
    "rf.fit(X_train_processed, y_train)"
   ]
  },
  {
   "cell_type": "code",
   "execution_count": 24,
   "id": "a311fdd1",
   "metadata": {},
   "outputs": [],
   "source": [
    "y_rf = rf.predict(X_test_processed)"
   ]
  },
  {
   "cell_type": "code",
   "execution_count": 25,
   "id": "67b17b7d",
   "metadata": {},
   "outputs": [
    {
     "name": "stdout",
     "output_type": "stream",
     "text": [
      "Accuracy for Random Forest Classifier: 91.6520%.\n"
     ]
    }
   ],
   "source": [
    "print(f'Accuracy for Random Forest Classifier: {metrics.accuracy_score(y_test, y_rf)*100:.4f}%.')"
   ]
  },
  {
   "cell_type": "markdown",
   "id": "75362882",
   "metadata": {},
   "source": [
    "## Testing other ML models\n",
    "SVMs (try to beat the Random Forest 91.4272% test accuracy)"
   ]
  },
  {
   "cell_type": "code",
   "execution_count": 19,
   "id": "774cb948",
   "metadata": {},
   "outputs": [
    {
     "name": "stdout",
     "output_type": "stream",
     "text": [
      "Accuracy for SVM: 96.4842%.\n"
     ]
    }
   ],
   "source": [
    "svm = SVC()\n",
    "svm.fit(X_train_processed, y_train)\n",
    "y_pred = svm.predict(X_test_processed)\n",
    "accuracy_svm = metrics.accuracy_score(y_test, y_pred)\n",
    "print(f'Accuracy for SVM: {accuracy_svm*100:.4f}%.')"
   ]
  },
  {
   "cell_type": "markdown",
   "id": "892ccd81",
   "metadata": {},
   "source": [
    "## Saving the ML Models"
   ]
  },
  {
   "cell_type": "code",
   "execution_count": 26,
   "id": "d041bfcb",
   "metadata": {},
   "outputs": [],
   "source": [
    "pickle.dump(rf, open(\"RandomForest\", \"wb\"))\n",
    "pickle.dump(svm, open(\"SVM\", \"wb\"))"
   ]
  }
 ],
 "metadata": {
  "kernelspec": {
   "display_name": "Python 3 (ipykernel)",
   "language": "python",
   "name": "python3"
  },
  "language_info": {
   "codemirror_mode": {
    "name": "ipython",
    "version": 3
   },
   "file_extension": ".py",
   "mimetype": "text/x-python",
   "name": "python",
   "nbconvert_exporter": "python",
   "pygments_lexer": "ipython3",
   "version": "3.9.15"
  }
 },
 "nbformat": 4,
 "nbformat_minor": 5
}
